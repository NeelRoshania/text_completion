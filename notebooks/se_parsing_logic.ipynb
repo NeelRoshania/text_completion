{
 "cells": [
  {
   "cell_type": "code",
   "execution_count": 380,
   "id": "a0dcc36d",
   "metadata": {},
   "outputs": [],
   "source": [
    "import os\n",
    "import requests\n",
    "import re\n",
    "import pandas as pd\n",
    "\n",
    "from html.parser import HTMLParser\n",
    "from chatgpt_poc.csv import read_csv, write_csv, write_text, read_text\n",
    "from chatgpt_poc.text_completion import request_completion\n",
    "from chatgpt_poc import cparser"
   ]
  },
  {
   "cell_type": "code",
   "execution_count": 327,
   "id": "ac847981",
   "metadata": {},
   "outputs": [],
   "source": [
    "# data\n",
    "home = '/home/nroshania/git/ChatGPT-POC/'\n",
    "cparser.read(f'{home}conf/pipeline.conf')\n",
    "\n",
    "header, *data = read_csv(f'{home}tests/data/wdod/requests/wdod_request_urls_040322.csv')\n",
    "r = [(d[1], d[2]) for d in data] # requests"
   ]
  },
  {
   "cell_type": "code",
   "execution_count": 328,
   "id": "e98110b1",
   "metadata": {},
   "outputs": [
    {
     "data": {
      "text/plain": [
       "[('80a2d56a-757c-4eef-8eaf-1e4840c2ac55',\n",
       "  'https://www.google.com/search?num=5&q=https%3A%2F%2Fwww.linkedin.com%2Fin%2Fvivek-dubey-4a05b0238+%22-+Present%22'),\n",
       " ('4160375',\n",
       "  'https://www.google.com/search?num=50&q=Adam+Home+Zenith+Wealth+Creation+site%3Alinkedin.com')]"
      ]
     },
     "execution_count": 328,
     "metadata": {},
     "output_type": "execute_result"
    }
   ],
   "source": [
    "r[0:2]"
   ]
  },
  {
   "cell_type": "code",
   "execution_count": 336,
   "id": "29d8e624",
   "metadata": {},
   "outputs": [],
   "source": [
    "# make requests and store html in seperate files\n",
    "headers = {\n",
    "    \"User-Agent\": \"Mozilla/5.0 (Windows NT 10.0; Win64; x64) AppleWebKit/537.36 (KHTML, like Gecko) Chrome/58.0.3029.110 Safari/537.3\"\n",
    "}\n",
    "\n",
    "for record_id, url in r:\n",
    "    t = requests.get(url, headers=headers)\n",
    "    write_text(file_loc=f'{home}tests/data/wdod/responses/{record_id}.txt', data=t.text)\n",
    "#     break"
   ]
  },
  {
   "cell_type": "markdown",
   "id": "5c4a862d",
   "metadata": {},
   "source": [
    "### HTML parser"
   ]
  },
  {
   "cell_type": "code",
   "execution_count": 396,
   "id": "31feb661",
   "metadata": {},
   "outputs": [],
   "source": [
    "resp = read_text(file_loc=f'{home}tests/data/wdod/responses/4160375.txt')\n",
    "resp = re.sub('<[\\/em]+>', '', resp)"
   ]
  },
  {
   "cell_type": "code",
   "execution_count": 397,
   "id": "32f995ad",
   "metadata": {},
   "outputs": [],
   "source": [
    "class WDODParser(HTMLParser):\n",
    "    \n",
    "    def __init__(\n",
    "            self,\n",
    "    ):\n",
    "        super().__init__()\n",
    "        self.found_links = set()\n",
    "        self.titles = set()\n",
    "        self.subtitles = set()\n",
    "        # self.hierarchy = []\n",
    "        self.foundh3 = False\n",
    "        self.foundspan = False\n",
    "\n",
    "    def handle_starttag(self, tag, attrs):\n",
    "        \n",
    "        # mark headers - this can be abstracted\n",
    "        if tag in ('h3'):\n",
    "            self.foundh3 = True\n",
    "        \n",
    "        if tag in ('span'):\n",
    "            self.foundspan = True\n",
    "            \n",
    "        # gather links within tags\n",
    "        for attr, url in attrs:\n",
    "            # self.hierarchy.append((self.getpos(), attr, url))\n",
    "            if attr != \"href\":\n",
    "                continue\n",
    "            else:\n",
    "#                 print(url)\n",
    "                if isinstance(re.search('(https:\\/\\/[\\w\\W]+.linkedin.com[\\w\\W]+)', url), re.Match) and ('google.com' not in url):\n",
    "                    self.found_links.add((self.getpos(), re.search('(https:\\/\\/[\\w\\W]+.linkedin.com[\\w\\W]+)', url).group(1)))\n",
    "\n",
    "    def handle_endtag(self, tag):\n",
    "        if tag in ('h3'):\n",
    "            self.foundh3 = False\n",
    "        if tag in ('span'):\n",
    "            self.foundspan = False\n",
    "\n",
    "    def handle_data(self, data):\n",
    "#         print(data)\n",
    "        if self.foundh3:\n",
    "            self.titles.add((self.getpos(), data)) # titles\n",
    "        if self.foundspan:\n",
    "            # locations\n",
    "            self.subtitles.add((self.getpos(), data))\n",
    "        \n",
    "\n",
    "parser = WDODParser()\n",
    "parser.feed(resp)"
   ]
  },
  {
   "cell_type": "code",
   "execution_count": null,
   "id": "cfd09ee3",
   "metadata": {},
   "outputs": [],
   "source": [
    "# data extraction logic\n",
    "\n",
    "# order data objects by line number\n",
    "titles = sorted([(t[0][0], t[0][1], t[1])for t in parser.titles], key=lambda line: line[1])\n",
    "urls = sorted([(t[0][0], t[0][1], t[1]) for t in parser.found_links], key=lambda line: line[1])\n",
    "\n",
    "res = list(zip(titles, urls))\n",
    "results = list(zip([t[2] for t in titles], [u[2] for u in urls]))\n",
    "\n",
    "# write_csv(file_loc=f'{home}tests/data/wdod/parsed/{record_id}.csv', data=results)\n",
    "# results[0:10]\n",
    "res[0:15]"
   ]
  },
  {
   "cell_type": "code",
   "execution_count": 69,
   "id": "50a7c780",
   "metadata": {},
   "outputs": [
    {
     "data": {
      "text/plain": [
       "{'creation_id': 'cmpl-71KYAe9rhVOsb0ROlnuYppqR7vGKW',\n",
       " 'model': 'text-davinci-003',\n",
       " 'prompt_tokens': 6,\n",
       " 'choices-text': ['\\n\\nThe vibe is one of energy and positivity!'],\n",
       " 'success': True}"
      ]
     },
     "execution_count": 69,
     "metadata": {},
     "output_type": "execute_result"
    }
   ],
   "source": [
    "request_completion('yo what\\'s the vibe?')"
   ]
  },
  {
   "cell_type": "markdown",
   "id": "5480d4a6",
   "metadata": {},
   "source": [
    "### BeautifulSoup"
   ]
  },
  {
   "cell_type": "code",
   "execution_count": null,
   "id": "2fe077a6",
   "metadata": {},
   "outputs": [],
   "source": [
    "\n",
    "import requests\n",
    "from bs4 import BeautifulSoup\n",
    "import re\n",
    "\n",
    "# Define the search URL\n",
    "url = \"https://www.google.com/search?num=50&q=Adam+Home+Zenith+Wealth+Creation+site%3Alinkedin.com\"\n",
    "headers = {\n",
    "    \"User-Agent\": \"Mozilla/5.0 (Windows NT 10.0; Win64; x64) AppleWebKit/537.36 (KHTML, like Gecko) Chrome/58.0.3029.110 Safari/537.3\"\n",
    "}\n",
    "response = requests.get(url, headers=headers)\n",
    "soup = BeautifulSoup(response.content, 'html.parser')\n",
    "search_results = soup.find_all( class_='g')\n",
    "\n",
    "for result in search_results:\n",
    "    title = result.find('h3').get_text()\n",
    "    print('title: ', title)\n",
    "    print()\n",
    "\n",
    "    url = result.find('a')['href']\n",
    "    print('url: ', url)\n",
    "    print()\n",
    "\n",
    "    blurb= result.find(style = '-webkit-line-clamp:2').get_text()\n",
    "    print('blurb:', blurb)\n",
    "    print()\n",
    "    \n",
    "    subtitles= result.find_all('span')[9:17]\n",
    "    subtitle_list = []\n",
    "    for subtitle in subtitles:\n",
    "        subtitle_list.append(subtitle.text.strip())\n",
    "    if blurb == subtitle_list[0]:\n",
    "        subtitle = None\n",
    "    else:\n",
    "        subtitle = subtitle_list\n",
    "\n",
    "    print('subtitle: ', subtitle)\n",
    "    print('------------------------------------------------------------------------------------------------------------------')"
   ]
  },
  {
   "cell_type": "code",
   "execution_count": null,
   "id": "4927c5fc",
   "metadata": {},
   "outputs": [],
   "source": []
  }
 ],
 "metadata": {
  "kernelspec": {
   "display_name": ".env",
   "language": "python",
   "name": ".env"
  },
  "language_info": {
   "codemirror_mode": {
    "name": "ipython",
    "version": 3
   },
   "file_extension": ".py",
   "mimetype": "text/x-python",
   "name": "python",
   "nbconvert_exporter": "python",
   "pygments_lexer": "ipython3",
   "version": "3.10.6"
  }
 },
 "nbformat": 4,
 "nbformat_minor": 5
}
